{
  "nbformat": 4,
  "nbformat_minor": 0,
  "metadata": {
    "colab": {
      "provenance": [],
      "authorship_tag": "ABX9TyM0C4A3Aabro32sptYw6PJ1",
      "include_colab_link": true
    },
    "kernelspec": {
      "name": "python3",
      "display_name": "Python 3"
    },
    "language_info": {
      "name": "python"
    }
  },
  "cells": [
    {
      "cell_type": "markdown",
      "metadata": {
        "id": "view-in-github",
        "colab_type": "text"
      },
      "source": [
        "<a href=\"https://colab.research.google.com/github/VasRamesh/chess-cheat-hunter/blob/main/03-kmeans-clustering.ipynb\" target=\"_parent\"><img src=\"https://colab.research.google.com/assets/colab-badge.svg\" alt=\"Open In Colab\"/></a>"
      ]
    },
    {
      "cell_type": "code",
      "execution_count": 1,
      "metadata": {
        "id": "I67bmGAV8GvK"
      },
      "outputs": [],
      "source": [
        "# Necessary Imports\n",
        "import pandas as pd\n",
        "import numpy as np\n",
        "import matplotlib.pyplot as plt\n",
        "import seaborn as sns\n",
        "from sklearn.cluster import KMeans\n",
        "from sklearn.preprocessing import MinMaxScaler, StandardScaler\n",
        "\n",
        "%matplotlib inline\n"
      ]
    },
    {
      "cell_type": "markdown",
      "source": [
        "### Load in data:"
      ],
      "metadata": {
        "id": "uvaaztv79bXm"
      }
    },
    {
      "cell_type": "code",
      "execution_count": 2,
      "metadata": {
        "colab": {
          "base_uri": "https://localhost:8080/"
        },
        "id": "kHiGxB1CPMQa",
        "outputId": "3da44643-dde2-44b3-f444-817d7776536e"
      },
      "outputs": [
        {
          "output_type": "stream",
          "name": "stdout",
          "text": [
            "Drive already mounted at /content/drive; to attempt to forcibly remount, call drive.mount(\"/content/drive\", force_remount=True).\n"
          ]
        }
      ],
      "source": [
        "import pickle\n",
        "from google.colab import drive\n",
        "drive.mount('/content/drive')"
      ]
    },
    {
      "cell_type": "code",
      "source": [
        "with open('/content/drive/My Drive/acc_data.pkl', 'rb') as f:\n",
        "  acc_data = pickle.load(f)\n",
        "  acc_data.reset_index(drop=True, inplace=True) # Fix errors made by threading"
      ],
      "metadata": {
        "id": "jwJGGeeDPeo6"
      },
      "execution_count": 3,
      "outputs": []
    },
    {
      "cell_type": "code",
      "source": [
        "#acc_data.info(), acc_data.describe()\n",
        "acc_data.head()"
      ],
      "metadata": {
        "colab": {
          "base_uri": "https://localhost:8080/",
          "height": 206
        },
        "id": "9ElDi2nX9sIK",
        "outputId": "df23a311-def3-4ee2-b564-0d2a07d6fd84"
      },
      "execution_count": 4,
      "outputs": [
        {
          "output_type": "execute_result",
          "data": {
            "text/plain": [
              "  w_username  w_accuracy  w_rating  b_username  b_accuracy  b_rating\n",
              "0  DilePuppa       60.52      1497   ---Faniel       77.03      1514\n",
              "1  ---Faniel       70.32      1600  nunosa1965       44.20      1730\n",
              "2      egor2       74.41      1472   ---Faniel       85.31      1614\n",
              "3    Korabl1       88.21      1612   ---Faniel       92.09      1579\n",
              "4  ---Faniel       48.09      1610    ajampana       80.96      1603"
            ],
            "text/html": [
              "\n",
              "\n",
              "  <div id=\"df-38d56a79-d42a-4219-b0e3-f0d1b409f603\">\n",
              "    <div class=\"colab-df-container\">\n",
              "      <div>\n",
              "<style scoped>\n",
              "    .dataframe tbody tr th:only-of-type {\n",
              "        vertical-align: middle;\n",
              "    }\n",
              "\n",
              "    .dataframe tbody tr th {\n",
              "        vertical-align: top;\n",
              "    }\n",
              "\n",
              "    .dataframe thead th {\n",
              "        text-align: right;\n",
              "    }\n",
              "</style>\n",
              "<table border=\"1\" class=\"dataframe\">\n",
              "  <thead>\n",
              "    <tr style=\"text-align: right;\">\n",
              "      <th></th>\n",
              "      <th>w_username</th>\n",
              "      <th>w_accuracy</th>\n",
              "      <th>w_rating</th>\n",
              "      <th>b_username</th>\n",
              "      <th>b_accuracy</th>\n",
              "      <th>b_rating</th>\n",
              "    </tr>\n",
              "  </thead>\n",
              "  <tbody>\n",
              "    <tr>\n",
              "      <th>0</th>\n",
              "      <td>DilePuppa</td>\n",
              "      <td>60.52</td>\n",
              "      <td>1497</td>\n",
              "      <td>---Faniel</td>\n",
              "      <td>77.03</td>\n",
              "      <td>1514</td>\n",
              "    </tr>\n",
              "    <tr>\n",
              "      <th>1</th>\n",
              "      <td>---Faniel</td>\n",
              "      <td>70.32</td>\n",
              "      <td>1600</td>\n",
              "      <td>nunosa1965</td>\n",
              "      <td>44.20</td>\n",
              "      <td>1730</td>\n",
              "    </tr>\n",
              "    <tr>\n",
              "      <th>2</th>\n",
              "      <td>egor2</td>\n",
              "      <td>74.41</td>\n",
              "      <td>1472</td>\n",
              "      <td>---Faniel</td>\n",
              "      <td>85.31</td>\n",
              "      <td>1614</td>\n",
              "    </tr>\n",
              "    <tr>\n",
              "      <th>3</th>\n",
              "      <td>Korabl1</td>\n",
              "      <td>88.21</td>\n",
              "      <td>1612</td>\n",
              "      <td>---Faniel</td>\n",
              "      <td>92.09</td>\n",
              "      <td>1579</td>\n",
              "    </tr>\n",
              "    <tr>\n",
              "      <th>4</th>\n",
              "      <td>---Faniel</td>\n",
              "      <td>48.09</td>\n",
              "      <td>1610</td>\n",
              "      <td>ajampana</td>\n",
              "      <td>80.96</td>\n",
              "      <td>1603</td>\n",
              "    </tr>\n",
              "  </tbody>\n",
              "</table>\n",
              "</div>\n",
              "      <button class=\"colab-df-convert\" onclick=\"convertToInteractive('df-38d56a79-d42a-4219-b0e3-f0d1b409f603')\"\n",
              "              title=\"Convert this dataframe to an interactive table.\"\n",
              "              style=\"display:none;\">\n",
              "\n",
              "  <svg xmlns=\"http://www.w3.org/2000/svg\" height=\"24px\"viewBox=\"0 0 24 24\"\n",
              "       width=\"24px\">\n",
              "    <path d=\"M0 0h24v24H0V0z\" fill=\"none\"/>\n",
              "    <path d=\"M18.56 5.44l.94 2.06.94-2.06 2.06-.94-2.06-.94-.94-2.06-.94 2.06-2.06.94zm-11 1L8.5 8.5l.94-2.06 2.06-.94-2.06-.94L8.5 2.5l-.94 2.06-2.06.94zm10 10l.94 2.06.94-2.06 2.06-.94-2.06-.94-.94-2.06-.94 2.06-2.06.94z\"/><path d=\"M17.41 7.96l-1.37-1.37c-.4-.4-.92-.59-1.43-.59-.52 0-1.04.2-1.43.59L10.3 9.45l-7.72 7.72c-.78.78-.78 2.05 0 2.83L4 21.41c.39.39.9.59 1.41.59.51 0 1.02-.2 1.41-.59l7.78-7.78 2.81-2.81c.8-.78.8-2.07 0-2.86zM5.41 20L4 18.59l7.72-7.72 1.47 1.35L5.41 20z\"/>\n",
              "  </svg>\n",
              "      </button>\n",
              "\n",
              "\n",
              "\n",
              "    <div id=\"df-71bf0142-e8ab-4b1e-91cf-8807ac767c4f\">\n",
              "      <button class=\"colab-df-quickchart\" onclick=\"quickchart('df-71bf0142-e8ab-4b1e-91cf-8807ac767c4f')\"\n",
              "              title=\"Suggest charts.\"\n",
              "              style=\"display:none;\">\n",
              "\n",
              "<svg xmlns=\"http://www.w3.org/2000/svg\" height=\"24px\"viewBox=\"0 0 24 24\"\n",
              "     width=\"24px\">\n",
              "    <g>\n",
              "        <path d=\"M19 3H5c-1.1 0-2 .9-2 2v14c0 1.1.9 2 2 2h14c1.1 0 2-.9 2-2V5c0-1.1-.9-2-2-2zM9 17H7v-7h2v7zm4 0h-2V7h2v10zm4 0h-2v-4h2v4z\"/>\n",
              "    </g>\n",
              "</svg>\n",
              "      </button>\n",
              "    </div>\n",
              "\n",
              "<style>\n",
              "  .colab-df-quickchart {\n",
              "    background-color: #E8F0FE;\n",
              "    border: none;\n",
              "    border-radius: 50%;\n",
              "    cursor: pointer;\n",
              "    display: none;\n",
              "    fill: #1967D2;\n",
              "    height: 32px;\n",
              "    padding: 0 0 0 0;\n",
              "    width: 32px;\n",
              "  }\n",
              "\n",
              "  .colab-df-quickchart:hover {\n",
              "    background-color: #E2EBFA;\n",
              "    box-shadow: 0px 1px 2px rgba(60, 64, 67, 0.3), 0px 1px 3px 1px rgba(60, 64, 67, 0.15);\n",
              "    fill: #174EA6;\n",
              "  }\n",
              "\n",
              "  [theme=dark] .colab-df-quickchart {\n",
              "    background-color: #3B4455;\n",
              "    fill: #D2E3FC;\n",
              "  }\n",
              "\n",
              "  [theme=dark] .colab-df-quickchart:hover {\n",
              "    background-color: #434B5C;\n",
              "    box-shadow: 0px 1px 3px 1px rgba(0, 0, 0, 0.15);\n",
              "    filter: drop-shadow(0px 1px 2px rgba(0, 0, 0, 0.3));\n",
              "    fill: #FFFFFF;\n",
              "  }\n",
              "</style>\n",
              "\n",
              "    <script>\n",
              "      async function quickchart(key) {\n",
              "        const containerElement = document.querySelector('#' + key);\n",
              "        const charts = await google.colab.kernel.invokeFunction(\n",
              "            'suggestCharts', [key], {});\n",
              "      }\n",
              "    </script>\n",
              "\n",
              "      <script>\n",
              "\n",
              "function displayQuickchartButton(domScope) {\n",
              "  let quickchartButtonEl =\n",
              "    domScope.querySelector('#df-71bf0142-e8ab-4b1e-91cf-8807ac767c4f button.colab-df-quickchart');\n",
              "  quickchartButtonEl.style.display =\n",
              "    google.colab.kernel.accessAllowed ? 'block' : 'none';\n",
              "}\n",
              "\n",
              "        displayQuickchartButton(document);\n",
              "      </script>\n",
              "      <style>\n",
              "    .colab-df-container {\n",
              "      display:flex;\n",
              "      flex-wrap:wrap;\n",
              "      gap: 12px;\n",
              "    }\n",
              "\n",
              "    .colab-df-convert {\n",
              "      background-color: #E8F0FE;\n",
              "      border: none;\n",
              "      border-radius: 50%;\n",
              "      cursor: pointer;\n",
              "      display: none;\n",
              "      fill: #1967D2;\n",
              "      height: 32px;\n",
              "      padding: 0 0 0 0;\n",
              "      width: 32px;\n",
              "    }\n",
              "\n",
              "    .colab-df-convert:hover {\n",
              "      background-color: #E2EBFA;\n",
              "      box-shadow: 0px 1px 2px rgba(60, 64, 67, 0.3), 0px 1px 3px 1px rgba(60, 64, 67, 0.15);\n",
              "      fill: #174EA6;\n",
              "    }\n",
              "\n",
              "    [theme=dark] .colab-df-convert {\n",
              "      background-color: #3B4455;\n",
              "      fill: #D2E3FC;\n",
              "    }\n",
              "\n",
              "    [theme=dark] .colab-df-convert:hover {\n",
              "      background-color: #434B5C;\n",
              "      box-shadow: 0px 1px 3px 1px rgba(0, 0, 0, 0.15);\n",
              "      filter: drop-shadow(0px 1px 2px rgba(0, 0, 0, 0.3));\n",
              "      fill: #FFFFFF;\n",
              "    }\n",
              "  </style>\n",
              "\n",
              "      <script>\n",
              "        const buttonEl =\n",
              "          document.querySelector('#df-38d56a79-d42a-4219-b0e3-f0d1b409f603 button.colab-df-convert');\n",
              "        buttonEl.style.display =\n",
              "          google.colab.kernel.accessAllowed ? 'block' : 'none';\n",
              "\n",
              "        async function convertToInteractive(key) {\n",
              "          const element = document.querySelector('#df-38d56a79-d42a-4219-b0e3-f0d1b409f603');\n",
              "          const dataTable =\n",
              "            await google.colab.kernel.invokeFunction('convertToInteractive',\n",
              "                                                     [key], {});\n",
              "          if (!dataTable) return;\n",
              "\n",
              "          const docLinkHtml = 'Like what you see? Visit the ' +\n",
              "            '<a target=\"_blank\" href=https://colab.research.google.com/notebooks/data_table.ipynb>data table notebook</a>'\n",
              "            + ' to learn more about interactive tables.';\n",
              "          element.innerHTML = '';\n",
              "          dataTable['output_type'] = 'display_data';\n",
              "          await google.colab.output.renderOutput(dataTable, element);\n",
              "          const docLink = document.createElement('div');\n",
              "          docLink.innerHTML = docLinkHtml;\n",
              "          element.appendChild(docLink);\n",
              "        }\n",
              "      </script>\n",
              "    </div>\n",
              "  </div>\n"
            ]
          },
          "metadata": {},
          "execution_count": 4
        }
      ]
    },
    {
      "cell_type": "markdown",
      "source": [
        "### Convert Data into NumPy Array so that we can insert in Kmeans()"
      ],
      "metadata": {
        "id": "N5M-5KPkobX9"
      }
    },
    {
      "cell_type": "code",
      "source": [
        "del_columns = ['w_username', 'b_username']\n",
        "ac_data = acc_data.drop(del_columns, axis=1, inplace=False)  # drop username columns"
      ],
      "metadata": {
        "id": "5x702qsS6oH7"
      },
      "execution_count": 64,
      "outputs": []
    },
    {
      "cell_type": "code",
      "source": [
        "# #TODO: REMOVE\n",
        "for i in range(len(ac_data)):\n",
        "  if max(ac_data['w_accuracy'][i], ac_data['b_accuracy'][i]) < 90:\n",
        "    ac_data.drop(i, axis=0, inplace=True)\n",
        "\n",
        "\n",
        "data = ac_data.to_numpy()"
      ],
      "metadata": {
        "id": "EBNcpBkS9tsi"
      },
      "execution_count": 65,
      "outputs": []
    },
    {
      "cell_type": "code",
      "source": [
        "data[1], data.shape"
      ],
      "metadata": {
        "colab": {
          "base_uri": "https://localhost:8080/"
        },
        "id": "NHYe2YKMohin",
        "outputId": "e80c5650-1542-4925-b602-d09f6cbceb8e"
      },
      "execution_count": 66,
      "outputs": [
        {
          "output_type": "execute_result",
          "data": {
            "text/plain": [
              "(array([  98.37, 1769.  ,   96.92, 1618.  ]), (4183, 4))"
            ]
          },
          "metadata": {},
          "execution_count": 66
        }
      ]
    },
    {
      "cell_type": "markdown",
      "source": [
        "### Normalize the data"
      ],
      "metadata": {
        "id": "emrc07UVwxmq"
      }
    },
    {
      "cell_type": "code",
      "source": [
        "scaler = MinMaxScaler()\n",
        "#scaler = StandardScaler()\n",
        "data = scaler.fit_transform(data)"
      ],
      "metadata": {
        "id": "1wMtLuY-wvyI"
      },
      "execution_count": 76,
      "outputs": []
    },
    {
      "cell_type": "markdown",
      "source": [
        "### KMeans clustering w/ Elbow method implementation"
      ],
      "metadata": {
        "id": "OH1Ptb1ip6Ng"
      }
    },
    {
      "cell_type": "code",
      "source": [
        "# Create a list to store the inertias\n",
        "inertias = []\n",
        "\n",
        "# Iterate over the number of clusters\n",
        "for k in range(1, 11):\n",
        "  # Create a KMeans object\n",
        "  kmeans = KMeans(n_clusters=k)\n",
        "\n",
        "  # Fit the data to the model\n",
        "  kmeans.fit(data)\n",
        "\n",
        "  # Calculate the inertia\n",
        "  inertia = kmeans.inertia_\n",
        "\n",
        "  # Store the inertia\n",
        "  inertias.append(inertia)\n",
        "\n",
        "# Plot the inertias\n",
        "plt.plot(range(1, 11), inertias)\n",
        "plt.xlabel(\"Number of clusters\")\n",
        "plt.ylabel(\"Inertia\")\n",
        "plt.show()\n"
      ],
      "metadata": {
        "colab": {
          "base_uri": "https://localhost:8080/",
          "height": 840
        },
        "id": "q6XVBfAApz6e",
        "outputId": "e23d4850-2b0e-471e-dd65-d2dfdb101411"
      },
      "execution_count": 77,
      "outputs": [
        {
          "output_type": "stream",
          "name": "stderr",
          "text": [
            "/usr/local/lib/python3.10/dist-packages/sklearn/cluster/_kmeans.py:870: FutureWarning: The default value of `n_init` will change from 10 to 'auto' in 1.4. Set the value of `n_init` explicitly to suppress the warning\n",
            "  warnings.warn(\n",
            "/usr/local/lib/python3.10/dist-packages/sklearn/cluster/_kmeans.py:870: FutureWarning: The default value of `n_init` will change from 10 to 'auto' in 1.4. Set the value of `n_init` explicitly to suppress the warning\n",
            "  warnings.warn(\n",
            "/usr/local/lib/python3.10/dist-packages/sklearn/cluster/_kmeans.py:870: FutureWarning: The default value of `n_init` will change from 10 to 'auto' in 1.4. Set the value of `n_init` explicitly to suppress the warning\n",
            "  warnings.warn(\n",
            "/usr/local/lib/python3.10/dist-packages/sklearn/cluster/_kmeans.py:870: FutureWarning: The default value of `n_init` will change from 10 to 'auto' in 1.4. Set the value of `n_init` explicitly to suppress the warning\n",
            "  warnings.warn(\n",
            "/usr/local/lib/python3.10/dist-packages/sklearn/cluster/_kmeans.py:870: FutureWarning: The default value of `n_init` will change from 10 to 'auto' in 1.4. Set the value of `n_init` explicitly to suppress the warning\n",
            "  warnings.warn(\n",
            "/usr/local/lib/python3.10/dist-packages/sklearn/cluster/_kmeans.py:870: FutureWarning: The default value of `n_init` will change from 10 to 'auto' in 1.4. Set the value of `n_init` explicitly to suppress the warning\n",
            "  warnings.warn(\n",
            "/usr/local/lib/python3.10/dist-packages/sklearn/cluster/_kmeans.py:870: FutureWarning: The default value of `n_init` will change from 10 to 'auto' in 1.4. Set the value of `n_init` explicitly to suppress the warning\n",
            "  warnings.warn(\n",
            "/usr/local/lib/python3.10/dist-packages/sklearn/cluster/_kmeans.py:870: FutureWarning: The default value of `n_init` will change from 10 to 'auto' in 1.4. Set the value of `n_init` explicitly to suppress the warning\n",
            "  warnings.warn(\n",
            "/usr/local/lib/python3.10/dist-packages/sklearn/cluster/_kmeans.py:870: FutureWarning: The default value of `n_init` will change from 10 to 'auto' in 1.4. Set the value of `n_init` explicitly to suppress the warning\n",
            "  warnings.warn(\n",
            "/usr/local/lib/python3.10/dist-packages/sklearn/cluster/_kmeans.py:870: FutureWarning: The default value of `n_init` will change from 10 to 'auto' in 1.4. Set the value of `n_init` explicitly to suppress the warning\n",
            "  warnings.warn(\n"
          ]
        },
        {
          "output_type": "display_data",
          "data": {
            "text/plain": [
              "<Figure size 640x480 with 1 Axes>"
            ],
            "image/png": "[encoded data removed]"
          },
          "metadata": {}
        }
      ]
    },
    {
      "cell_type": "markdown",
      "source": [
        "### View the 4 cluster solution:"
      ],
      "metadata": {
        "id": "aY5uiVoYrUkw"
      }
    },
    {
      "cell_type": "code",
      "source": [
        "# Looks like after 4 clusters, our deviations decrease too slowly\n",
        "num_clusters = 4\n",
        "# Create a KMeans object\n",
        "kmeans = KMeans(n_clusters=num_clusters)\n",
        "\n",
        "# Fit the data to the model\n",
        "kmeans.fit(data)\n",
        "\n",
        "# Predict the cluster labels\n",
        "labels = kmeans.predict(data)"
      ],
      "metadata": {
        "colab": {
          "base_uri": "https://localhost:8080/"
        },
        "id": "GBt_O9-Sqg9z",
        "outputId": "5ff40832-54b2-44df-f0e1-e6bb74cf9892"
      },
      "execution_count": 78,
      "outputs": [
        {
          "output_type": "stream",
          "name": "stderr",
          "text": [
            "/usr/local/lib/python3.10/dist-packages/sklearn/cluster/_kmeans.py:870: FutureWarning: The default value of `n_init` will change from 10 to 'auto' in 1.4. Set the value of `n_init` explicitly to suppress the warning\n",
            "  warnings.warn(\n"
          ]
        }
      ]
    },
    {
      "cell_type": "markdown",
      "source": [
        "### Visualize different clusters:"
      ],
      "metadata": {
        "id": "d-cqc3Uku18A"
      }
    },
    {
      "cell_type": "code",
      "source": [
        "data[0]"
      ],
      "metadata": {
        "colab": {
          "base_uri": "https://localhost:8080/"
        },
        "id": "YeudvblMOnFJ",
        "outputId": "9ba29110-eff6-49ad-920e-da502381967a"
      },
      "execution_count": 79,
      "outputs": [
        {
          "output_type": "execute_result",
          "data": {
            "text/plain": [
              "array([0.8821    , 0.55071402, 0.9209    , 0.54757497])"
            ]
          },
          "metadata": {},
          "execution_count": 79
        }
      ]
    },
    {
      "cell_type": "code",
      "source": [
        "cluster1 = pd.DataFrame(columns=['w_acc', 'w_rating', 'b_acc', 'b_rating'])\n",
        "cluster2 = pd.DataFrame(columns=['w_acc', 'w_rating', 'b_acc', 'b_rating'])\n",
        "cluster3 = pd.DataFrame(columns=['w_acc', 'w_rating', 'b_acc', 'b_rating'])\n",
        "cluster4 = pd.DataFrame(columns=['w_acc', 'w_rating', 'b_acc', 'b_rating'])"
      ],
      "metadata": {
        "id": "L1fRED9zOhfU"
      },
      "execution_count": 80,
      "outputs": []
    },
    {
      "cell_type": "code",
      "source": [
        "for i in range(100):\n",
        "\n",
        "  x1 = data[i, 1]  # w_rating\n",
        "  y1 = data[i, 0]  # w_acc\n",
        "  x2 = data[i, 3]  # b_rating\n",
        "  y2 = data[i, 2]  # b_acc\n",
        "  #entry = {'w_acc': y1, 'w_rating': x1, 'b_acc': y2, 'b_rating': x2}\n",
        "\n",
        "  if labels[i] == 0:\n",
        "    plt.plot([x1, x2], [y1, y2], 'r')\n",
        "\n",
        "  elif labels[i] == 1:\n",
        "    plt.plot([x1, x2], [y1, y2], 'b')\n",
        "\n",
        "  elif labels[i] == 2:\n",
        "    plt.plot([x1, x2], [y1, y2], 'g')\n",
        "\n",
        "  else:\n",
        "    plt.plot([x1, x2], [y1, y2], 'k')\n",
        "\n",
        "plt.title(f\"Clusters ({num_clusters})\")\n",
        "plt.xlabel(\"rating\")\n",
        "plt.ylabel(\"accuracy\")\n",
        "#plt.axhline(y=88, color='red')\n",
        "plt.show()"
      ],
      "metadata": {
        "colab": {
          "base_uri": "https://localhost:8080/",
          "height": 472
        },
        "id": "PEHSJbO8udMo",
        "outputId": "3922eda2-f68b-41ac-ca59-e4fa5341d9a9"
      },
      "execution_count": 81,
      "outputs": [
        {
          "output_type": "display_data",
          "data": {
            "text/plain": [
              "<Figure size 640x480 with 1 Axes>"
            ],
            "image/png": "[encoded data removed]"
          },
          "metadata": {}
        }
      ]
    },
    {
      "cell_type": "code",
      "source": [
        "\"\"\" It seems like KMeans() is clustering too heavlity based on rating, although there are good insites (such as r and g (clusters 1 & 3))\n",
        "aren't in the suspicious range. Let's exclude rating and see how the graph looks\"\"\""
      ],
      "metadata": {
        "id": "N0hsYPMQv0E6"
      },
      "execution_count": null,
      "outputs": []
    },
    {
      "cell_type": "code",
      "source": [
        "\"\"\" Conclusion: using 4 dimensions to plot (w_rating, w_acc) -> (b_rating, b_acc) line yeilded a good clustering of datapoints\n",
        "only those with a max accuracy score (of the two) greater than 90 were included in the final data set (as low accuracy from both players)\n",
        "makes cheating very unlikely. KMeans() with Standardized Normalization yeilded 4 clusters:\n",
        "Cluster 1 = red\n",
        "Cluster 2 = blue\n",
        "Cluster 3 = green\n",
        "Cluster 4 = black\n",
        "Let's analyze further:\n",
        "\"\"\""
      ],
      "metadata": {
        "id": "hAycbvqw1oAh"
      },
      "execution_count": null,
      "outputs": []
    },
    {
      "cell_type": "markdown",
      "source": [
        "### Final summary of KMeans() Clustering"
      ],
      "metadata": {
        "id": "9xScnj7ONZiM"
      }
    },
    {
      "cell_type": "code",
      "source": [
        "data[0]"
      ],
      "metadata": {
        "colab": {
          "base_uri": "https://localhost:8080/"
        },
        "id": "X5VDRiIORcnB",
        "outputId": "d1864dc1-ea05-40a1-cd4a-c3cbac0952be"
      },
      "execution_count": 56,
      "outputs": [
        {
          "output_type": "execute_result",
          "data": {
            "text/plain": [
              "array([0.8821    , 0.55071402, 0.9209    , 0.54757497])"
            ]
          },
          "metadata": {},
          "execution_count": 56
        }
      ]
    },
    {
      "cell_type": "code",
      "source": [
        "cluster1 = pd.DataFrame(columns=['w_acc', 'w_rating', 'b_acc', 'b_rating'])\n",
        "cluster2 = pd.DataFrame(columns=['w_acc', 'w_rating', 'b_acc', 'b_rating'])\n",
        "cluster3 = pd.DataFrame(columns=['w_acc', 'w_rating', 'b_acc', 'b_rating'])\n",
        "cluster4 = pd.DataFrame(columns=['w_acc', 'w_rating', 'b_acc', 'b_rating'])\n",
        "\n",
        "for i in range(len(labels)):\n",
        "  entry = {'w_acc': data[i, 0], 'w_rating': data[i, 1], 'b_acc': data[i, 2], 'b_rating': data[i, 3]}\n",
        "  if labels[i] == 0:\n",
        "    cluster1 = cluster1.append(entry, ignore_index=True)\n",
        "  elif labels[i] == 1:\n",
        "    cluster2 = cluster2.append(entry, ignore_index=True)\n",
        "  elif labels[i] == 2:\n",
        "    cluster3 = cluster3.append(entry, ignore_index=True)\n",
        "  else:\n",
        "    cluster4 = cluster4.append(entry, ignore_index=True)"
      ],
      "metadata": {
        "id": "ts7P5kiqRS9N"
      },
      "execution_count": null,
      "outputs": []
    },
    {
      "cell_type": "code",
      "source": [
        "# Labels and data:\n",
        "print('SUMMARY: ')\n",
        "print(f'acc_data length: {len(acc_data)} samples')\n",
        "print(f'acc_data > 90 length: {len(ac_data)} samples used')\n",
        "\n",
        "counts = {}\n",
        "for value in labels:\n",
        "    if value not in counts:\n",
        "        counts[value] = 0\n",
        "    counts[value] += 1\n",
        "\n",
        "# Print the counts\n",
        "print(f\"Cluster 1 games: {counts[0]}\")\n",
        "print(f\"Cluster 2 games: {counts[1]}\")\n",
        "print(f\"Cluster 3 games: {counts[2]}\")\n",
        "print(f\"Cluster 4 games: {counts[3]}\")\n",
        "print('----------------------------------------')\n",
        "print('Cluster 1 information: ')\n",
        "print(cluster1.describe())\n",
        "print('----------------------------------------')\n",
        "print('Cluster 2 information: ')\n",
        "print(cluster2.describe())\n",
        "print('----------------------------------------')\n",
        "print('Cluster 3 information: ')\n",
        "print(cluster3.describe())\n",
        "print('----------------------------------------')\n",
        "print('Cluster 4 information: ')\n",
        "print(cluster4.describe())"
      ],
      "metadata": {
        "colab": {
          "base_uri": "https://localhost:8080/"
        },
        "id": "mQmR234TMYSW",
        "outputId": "027189db-9e45-4a68-d220-be4aff6c44dd"
      },
      "execution_count": 75,
      "outputs": [
        {
          "output_type": "stream",
          "name": "stdout",
          "text": [
            "SUMMARY: \n",
            "acc_data length: 29414 samples\n",
            "acc_data > 90 length: 4183 samples used\n",
            "Cluster 1 games: 1544\n",
            "Cluster 2 games: 1524\n",
            "Cluster 3 games: 583\n",
            "Cluster 4 games: 532\n",
            "----------------------------------------\n",
            "Cluster 1 information: \n",
            "             w_acc     w_rating        b_acc     b_rating\n",
            "count  1544.000000  1544.000000  1544.000000  1544.000000\n",
            "mean      0.302185     0.883113     0.323553     0.868184\n",
            "std       0.477243     0.731387     0.518695     0.721469\n",
            "min      -2.234493    -1.619650    -2.960359    -1.513218\n",
            "25%       0.042408     0.375410     0.022698     0.343534\n",
            "50%       0.467404     0.737930     0.534927     0.749101\n",
            "75%       0.626657     1.297315     0.693854     1.279089\n",
            "max       0.885188     3.945390     0.941569     3.853657\n",
            "----------------------------------------\n",
            "Cluster 2 information: \n",
            "             w_acc     w_rating        b_acc     b_rating\n",
            "count  1524.000000  1524.000000  1524.000000  1524.000000\n",
            "mean      0.219521    -0.721649     0.221341    -0.718286\n",
            "std       0.510902     0.643609     0.522845     0.667750\n",
            "min      -1.482097    -2.611177    -1.405347    -2.609084\n",
            "25%      -0.159633    -1.139491    -0.186840    -1.166273\n",
            "50%       0.444327    -0.628122     0.505913    -0.596805\n",
            "75%       0.597811    -0.231991     0.637133    -0.213372\n",
            "max       0.885188     1.376541     0.941569     1.492041\n",
            "----------------------------------------\n",
            "Cluster 3 information: \n",
            "            w_acc    w_rating       b_acc    b_rating\n",
            "count  583.000000  583.000000  583.000000  583.000000\n",
            "mean     0.639700   -0.089665   -2.079742   -0.394680\n",
            "std      0.136649    0.769251    0.742245    0.743017\n",
            "min      0.404424   -2.579967   -3.421540   -2.609084\n",
            "25%      0.523173   -0.566902   -2.727587   -0.852827\n",
            "50%      0.633748   -0.032725   -2.060686   -0.331213\n",
            "75%      0.754180    0.403019   -1.468176    0.068371\n",
            "max      0.885188    2.214418   -0.650529    2.202679\n",
            "----------------------------------------\n",
            "Cluster 4 information: \n",
            "            w_acc    w_rating       b_acc    b_rating\n",
            "count  532.000000  532.000000  532.000000  532.000000\n",
            "mean    -2.206896   -0.397479    0.706014   -0.029528\n",
            "std      0.844957    0.746347    0.120759    0.797953\n",
            "min     -3.922458   -2.553558    0.505258   -2.520554\n",
            "25%     -2.874631   -0.865200    0.602992   -0.525622\n",
            "50%     -2.140263   -0.366435    0.701380   -0.017767\n",
            "75%     -1.494957    0.087915    0.799441    0.418905\n",
            "max     -0.701335    1.434160    0.941569    2.628584\n"
          ]
        }
      ]
    },
    {
      "cell_type": "code",
      "source": [
        "\"\"\" From 29,400 games from 10,000 players, we were able to flag a total of 3066 as suspicious\n",
        "and need for more review. \"\"\""
      ],
      "metadata": {
        "id": "sPMDIa85Shba"
      },
      "execution_count": null,
      "outputs": []
    }
  ]
}