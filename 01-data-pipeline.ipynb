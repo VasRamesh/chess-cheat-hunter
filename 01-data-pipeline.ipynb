{
  "nbformat": 4,
  "nbformat_minor": 0,
  "metadata": {
    "colab": {
      "provenance": [],
      "gpuType": "T4",
      "authorship_tag": "ABX9TyOiJER48JRLIP2TbH+i1/Rr",
      "include_colab_link": true
    },
    "kernelspec": {
      "name": "python3",
      "display_name": "Python 3"
    },
    "language_info": {
      "name": "python"
    }
  },
  "cells": [
    {
      "cell_type": "markdown",
      "metadata": {
        "id": "view-in-github",
        "colab_type": "text"
      },
      "source": [
        "<a href=\"https://colab.research.google.com/github/VasRamesh/chess-cheat-hunter/blob/main/01-data-pipeline.ipynb\" target=\"_parent\"><img src=\"https://colab.research.google.com/assets/colab-badge.svg\" alt=\"Open In Colab\"/></a>"
      ]
    },
    {
      "cell_type": "markdown",
      "source": [
        "### Chess.com API to access data"
      ],
      "metadata": {
        "id": "cYFOgtcmF5B1"
      }
    },
    {
      "cell_type": "code",
      "execution_count": null,
      "metadata": {
        "id": "iNtogcPiFwGm"
      },
      "outputs": [],
      "source": [
        "!pip install chess.com"
      ]
    },
    {
      "cell_type": "markdown",
      "source": [
        "### Package imports & pprint"
      ],
      "metadata": {
        "id": "1LaVbqiAF-aS"
      }
    },
    {
      "cell_type": "code",
      "source": [
        "# Necessary Imports\n",
        "from chessdotcom import get_leaderboards, get_country_players, get_player_game_archives\n",
        "import pprint\n",
        "import requests\n",
        "import pandas as pd\n",
        "import threading\n",
        "import json\n",
        "import time\n",
        "import pickle\n",
        "import os\n",
        "\n",
        "printer = pprint.PrettyPrinter()"
      ],
      "metadata": {
        "id": "9kIGVpC-F9XQ"
      },
      "execution_count": 5,
      "outputs": []
    },
    {
      "cell_type": "markdown",
      "source": [
        "### Create list of players to analyze"
      ],
      "metadata": {
        "id": "WHo5cQt1JgBd"
      }
    },
    {
      "cell_type": "code",
      "source": [
        "def create_player_archive(iso: str)->list:\n",
        "  # 10k players from the US for testing purposes:\n",
        "  iso_alpha_code = \"US\"\n",
        "  data = get_country_players(iso=iso_alpha_code, tts=0).json\n",
        "  player_list = data['players']\n",
        "\n",
        "  # Get monthly archive per player:\n",
        "  archive = []\n",
        "  for i, player in enumerate(player_list):  # All the archives for the first 5 players in player_list\n",
        "    #page = get_player_game_archives(username=player, tts=i/10).json\n",
        "    threading.Thread(target=player_game_archives_threading, args=(player, i/10, archive)).start()\n",
        "    time.sleep(0.23)\n",
        "\n",
        "  return archive\n"
      ],
      "metadata": {
        "id": "57n0vINZLD7b"
      },
      "execution_count": 6,
      "outputs": []
    },
    {
      "cell_type": "code",
      "source": [
        "def player_game_archives_threading(player: str, tts, archive: list):\n",
        "\n",
        "  page = get_player_game_archives(username=player, tts=tts).json\n",
        "  archive.extend(page['archives'])\n",
        "  return page"
      ],
      "metadata": {
        "id": "PTUltEiRKOOB"
      },
      "execution_count": null,
      "outputs": []
    },
    {
      "cell_type": "markdown",
      "source": [
        "### Collecting accuracies from archive.text"
      ],
      "metadata": {
        "id": "yCSIZ_9r7TLX"
      }
    },
    {
      "cell_type": "code",
      "source": [
        "# H-METHOD: Open URL with requests package\n",
        "def fetch_json_from_url(url, user_agent=None):\n",
        "\n",
        "    headers = {'User-agent': user_agent} if user_agent else {}\n",
        "    response = requests.get(url, headers=headers)\n",
        "    response.raise_for_status()  # Check if the request was successful\n",
        "    data = response.json()  # Parse the response JSON data\n",
        "    return data\n"
      ],
      "metadata": {
        "id": "n-1af-rcGH0t"
      },
      "execution_count": null,
      "outputs": []
    },
    {
      "cell_type": "code",
      "source": [
        "# H-METHOD: Find 'accuracy' keys in game_data dict (specific to chess.com API)\n",
        "def find_acc(game_data: dict)->list:\n",
        "  for game in game_data['games']:\n",
        "    if 'accuracies' in game.keys() and game['rules'] == 'chess':\n",
        "      return_list = {} # [white username, white accuracy, white elo, black username, black accuracy, black elo]\n",
        "      return_list['w_username'] = game['white']['username']\n",
        "      return_list['w_accuracy'] = round(game['accuracies']['white'], 2)\n",
        "      return_list['w_rating'] = game['white']['rating']\n",
        "      return_list['b_username'] = game['black']['username']\n",
        "      return_list['b_accuracy'] = round(game['accuracies']['black'], 2)\n",
        "      return_list['b_rating'] = game['black']['rating']\n",
        "      return return_list\n",
        "    return None\n"
      ],
      "metadata": {
        "id": "OiSH56qd9vmT"
      },
      "execution_count": null,
      "outputs": []
    },
    {
      "cell_type": "markdown",
      "source": [
        "### Test add entry method to replace fill_pd() to help threading"
      ],
      "metadata": {
        "id": "FL4p5nY3YfUi"
      }
    },
    {
      "cell_type": "code",
      "source": [
        "def add_entry(url, acc_data:pd.core.frame.DataFrame):\n",
        "  game_data = fetch_json_from_url(url, user_agent=\"MLChessProject (vasanth765@gmail.com)\")\n",
        "  accuracies = find_acc(game_data)\n",
        "  if accuracies:\n",
        "      # print(f\"Accuracies found! --> added {accuracies}\")\n",
        "      acc_data.loc[len(acc_data)] = accuracies\n",
        "  # else:\n",
        "  #     print(f\"No accuracies found\")"
      ],
      "metadata": {
        "id": "RhsHz9okYkHY"
      },
      "execution_count": null,
      "outputs": []
    },
    {
      "cell_type": "markdown",
      "source": [
        "### Define thread function for processing speed"
      ],
      "metadata": {
        "id": "hJBHAgAMWgF3"
      }
    },
    {
      "cell_type": "code",
      "source": [
        "# MAIN FUNCTION which returns df with all collected and processed data\n",
        "def main()->pd.core.frame.DataFrame:\n",
        "\n",
        "  # Create dataframe\n",
        "  acc_data = pd.DataFrame(columns=['w_username',\n",
        "                                   'w_accuracy',\n",
        "                                   'w_rating',\n",
        "                                   'b_username',\n",
        "                                   'b_accuracy',\n",
        "                                   'b_rating'])\n",
        "\n",
        "  archive = create_player_archive(iso='US')\n",
        "\n",
        "  # Threading\n",
        "  threadlist = []\n",
        "  count = 0\n",
        "  for url in archive:\n",
        "\n",
        "    if count % 100 == 0: print(f\"Count: {count}\")\n",
        "    count += 1\n",
        "\n",
        "    threading.Thread(target=add_entry, args=(url,acc_data)).start()\n",
        "    time.sleep(0.35)\n",
        "\n",
        "  return acc_data\n"
      ],
      "metadata": {
        "id": "jBTloBJhEq0O"
      },
      "execution_count": null,
      "outputs": []
    },
    {
      "cell_type": "markdown",
      "source": [
        "### Call thread_function"
      ],
      "metadata": {
        "id": "aAvl_ct0XQjQ"
      }
    },
    {
      "cell_type": "code",
      "source": [
        "acc_data = main()"
      ],
      "metadata": {
        "id": "m31lUBUr0u-r"
      },
      "execution_count": null,
      "outputs": []
    },
    {
      "cell_type": "markdown",
      "source": [
        "### Save created dataframe with pickle"
      ],
      "metadata": {
        "id": "Xv-yBwolFgIO"
      }
    },
    {
      "cell_type": "code",
      "source": [
        "#from google.colab import drive\n",
        "#drive.mount('/content/drive')"
      ],
      "metadata": {
        "id": "qscZd047QSvu"
      },
      "execution_count": 4,
      "outputs": []
    },
    {
      "cell_type": "code",
      "source": [
        "# Save file to directory via pickle\n",
        "def save_via_pickle(acc_data: pd.core.frame.DataFrame):\n",
        "  #path = '/content/drive/My Drive/Colab Notebooks/Chess Project/acc_data.pkl'\n",
        "  path = 'acc_data.pk1'\n",
        "  if not os.path.exists(path):\n",
        "    with open(path, 'wb') as f:\n",
        "        pickle.dump(acc_data, f)\n",
        "        print(\"Saved!\")\n",
        "  else:\n",
        "    print(f\"File at path: {path} already exists. Please delete this to rewrite.\")"
      ],
      "metadata": {
        "id": "Tu1YDElbE11O"
      },
      "execution_count": 7,
      "outputs": []
    },
    {
      "cell_type": "code",
      "source": [
        "save_via_pickle(acc_data=acc_data)"
      ],
      "metadata": {
        "id": "qVqQtLF4GcUR"
      },
      "execution_count": null,
      "outputs": []
    }
  ]
}